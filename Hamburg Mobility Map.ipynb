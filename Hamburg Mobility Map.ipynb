{
 "cells": [
  {
   "cell_type": "markdown",
   "metadata": {},
   "source": [
    "# Hamburg Mobility Map"
   ]
  },
  {
   "cell_type": "code",
   "execution_count": 3,
   "metadata": {},
   "outputs": [
    {
     "name": "stdout",
     "output_type": "stream",
     "text": [
      "Pandas Version: 1.0.1\n",
      "Geopandas Version: 0.6.2\n"
     ]
    }
   ],
   "source": [
    "import json\n",
    "import pandas as pd\n",
    "import geopandas as gpd\n",
    "from keplergl import KeplerGl\n",
    "\n",
    "print(\"Pandas Version: \" + pd.__version__)\n",
    "print(\"Geopandas Version: \" + gpd.__version__)"
   ]
  },
  {
   "cell_type": "markdown",
   "metadata": {},
   "source": [
    "Das von Uber entwickelte Framework [kepler.gl](https://kepler.gl/) bietet die Möglichkeit, raumbezogene Daten durch Visualisierung zu analysieren. Der Fokus liegt dabei auf größeren Datensätzen. Mithilfe der Integration für Jupyter Notebooks werden im Folgenden verschiedene Daten zur Stadt Hamburg importiert und auf einer Karte angezeigt."
   ]
  },
  {
   "cell_type": "markdown",
   "metadata": {},
   "source": [
    "## Verwendete Datensätze und Quellen"
   ]
  },
  {
   "cell_type": "markdown",
   "metadata": {},
   "source": [
    "### Mobility"
   ]
  },
  {
   "cell_type": "markdown",
   "metadata": {},
   "source": [
    "Stationen des Bikesharing-Systems StadtRAD Hamburg\n",
    "\n",
    "Quelle: [European Data Portal](https://www.europeandataportal.eu/data/datasets/d18f375e-fa5f-4998-aff8-557969f44479) \\\n",
    "Alternative Quelle: [Transparenzportal Hamburg](http://suche.transparenz.hamburg.de/dataset/stadtrad-stationen-hamburg13)"
   ]
  },
  {
   "cell_type": "code",
   "execution_count": 4,
   "metadata": {},
   "outputs": [],
   "source": [
    "stadtrad = gpd.read_file(\"data/europeandataportal/Stadtrad.geojson\")"
   ]
  },
  {
   "cell_type": "markdown",
   "metadata": {},
   "source": [
    "StadtRAD Hamburg Buchungen nach Aufbereitung des Datensatzes\n",
    "\n",
    "Quelle: [Deutsche Bahn](https://data.deutschebahn.com/dataset/data-call-a-bike)"
   ]
  },
  {
   "cell_type": "code",
   "execution_count": 5,
   "metadata": {},
   "outputs": [],
   "source": [
    "bike_bookings = pd.read_csv(\"data/call_a_bike/bookings.csv\")"
   ]
  },
  {
   "cell_type": "markdown",
   "metadata": {},
   "source": [
    "Radfernwege\n",
    "\n",
    "Quelle: [ArcGIS Hub](https://hub.arcgis.com/datasets/esri-de-content::radfernwege-hamburg)"
   ]
  },
  {
   "cell_type": "code",
   "execution_count": 6,
   "metadata": {},
   "outputs": [],
   "source": [
    "bike_routes_distant = gpd.read_file(\"data/arcgis/Radfernwege_Hamburg.geojson\")"
   ]
  },
  {
   "cell_type": "markdown",
   "metadata": {},
   "source": [
    "Freizeitrouten\n",
    "\n",
    "Quelle: [ArcGIS Hub](https://hub.arcgis.com/datasets/esri-de-content::freizeitrouten-hamburg)"
   ]
  },
  {
   "cell_type": "code",
   "execution_count": 7,
   "metadata": {},
   "outputs": [],
   "source": [
    "bike_routes_leisure = gpd.read_file(\"data/arcgis/Freizeitrouten_Hamburg.geojson\")"
   ]
  },
  {
   "cell_type": "markdown",
   "metadata": {},
   "source": [
    "Velorouten\n",
    "\n",
    "Quelle: [ArcGIS Hub](https://hub.arcgis.com/datasets/esri-de-content::velorouten-hamburg/)"
   ]
  },
  {
   "cell_type": "code",
   "execution_count": 8,
   "metadata": {},
   "outputs": [],
   "source": [
    "bike_routes = gpd.read_file(\"data/arcgis/Velorouten_Hamburg.geojson\")"
   ]
  },
  {
   "cell_type": "markdown",
   "metadata": {},
   "source": [
    "ÖPNV-Stationen\n",
    "\n",
    "Quelle: [esri Deutschland](https://opendata-esri-de.opendata.arcgis.com/datasets/esri-de-content::bahnh%C3%B6fe-hamburg)"
   ]
  },
  {
   "cell_type": "code",
   "execution_count": 9,
   "metadata": {},
   "outputs": [],
   "source": [
    "public_transport = gpd.read_file(\"data/esri/Bahnhöfe_Hamburg.geojson\")"
   ]
  },
  {
   "cell_type": "markdown",
   "metadata": {},
   "source": [
    "ÖPNV-Linien\n",
    "\n",
    "Quelle: [esri Deutschland](https://opendata-esri-de.opendata.arcgis.com/datasets/esri-de-content::bahnlinien-hamburg)"
   ]
  },
  {
   "cell_type": "code",
   "execution_count": 10,
   "metadata": {},
   "outputs": [],
   "source": [
    "public_transport_lines = gpd.read_file(\"data/esri/Bahnlinien_Hamburg.geojson\")"
   ]
  },
  {
   "cell_type": "markdown",
   "metadata": {},
   "source": [
    "Verkehrskameras\n",
    "\n",
    "Quelle: [govdata](https://www.govdata.de/web/guest/suchen/-/details/verkehrskameras-hamburg8c60d)\\\n",
    "Alternative Quelle: [Transparenzportal Hamburg](http://suche.transparenz.hamburg.de/dataset/verkehrskameras-hamburg15)"
   ]
  },
  {
   "cell_type": "code",
   "execution_count": 11,
   "metadata": {},
   "outputs": [],
   "source": [
    "traffic_cameras = gpd.read_file(\"data/govdata/Verkehrskameras.geojson\")"
   ]
  },
  {
   "cell_type": "markdown",
   "metadata": {},
   "source": [
    "Elektro-Ladestationen\n",
    "\n",
    "Quelle: [govdata](https://www.govdata.de/web/guest/suchen/-/details/elektro-ladestandorte-hamburgba464)\\\n",
    "Alternative Quelle: [Transparenzportal Hamburg](http://suche.transparenz.hamburg.de/dataset/elektro-ladestandorte-hamburg16)"
   ]
  },
  {
   "cell_type": "code",
   "execution_count": 12,
   "metadata": {},
   "outputs": [],
   "source": [
    "ecar_charging = gpd.read_file(\"data/govdata/EMobility.geojson\")"
   ]
  },
  {
   "cell_type": "markdown",
   "metadata": {},
   "source": [
    "Bike&Ride Stationen\n",
    "\n",
    "Quelle: [govdata](https://www.govdata.de/web/guest/suchen/-/details/bike-ride-anlagen-hamburg30b8f)\\\n",
    "Alternative Quelle: [Transparenzportal Hamburg](http://suche.transparenz.hamburg.de/dataset/bike-ride-anlagen-hamburg13)"
   ]
  },
  {
   "cell_type": "code",
   "execution_count": 13,
   "metadata": {},
   "outputs": [],
   "source": [
    "bike_and_ride = gpd.read_file(\"data/govdata/BikeAndRide.geojson\")"
   ]
  },
  {
   "cell_type": "markdown",
   "metadata": {},
   "source": [
    "### Freizeit"
   ]
  },
  {
   "cell_type": "markdown",
   "metadata": {},
   "source": [
    "Spielplätze\n",
    "\n",
    "Quelle: [ArcGIS Hub](https://hub.arcgis.com/datasets/esri-de-content::spielpl%C3%A4tze-hamburg)"
   ]
  },
  {
   "cell_type": "code",
   "execution_count": 14,
   "metadata": {},
   "outputs": [],
   "source": [
    "playgrounds = gpd.read_file(\"data/arcgis/Spielplätze__Hamburg.geojson\")"
   ]
  },
  {
   "cell_type": "markdown",
   "metadata": {},
   "source": [
    "Sportstätten\n",
    "\n",
    "Quelle: [govdata](https://www.govdata.de/web/guest/suchen/-/details/stammdaten-hamburger-sportstatten) \\\n",
    "Alternative Quelle: [GEOSS](http://cloud.csiss.gmu.edu/uddi/de/dataset/stammdaten-hamburger-sportstatten)"
   ]
  },
  {
   "cell_type": "code",
   "execution_count": 15,
   "metadata": {},
   "outputs": [],
   "source": [
    "sports = gpd.read_file(\"data/govdata/Sportstaetten.geojson\")"
   ]
  },
  {
   "cell_type": "markdown",
   "metadata": {},
   "source": [
    "Gartendenkmale\n",
    "\n",
    "Quelle: [Transparenzportal Hamburg](http://suche.transparenz.hamburg.de/dataset/denkmalkartierung-hamburg9)"
   ]
  },
  {
   "cell_type": "code",
   "execution_count": 16,
   "metadata": {},
   "outputs": [],
   "source": [
    "parks = gpd.read_file(\"data/hamburg/Gartendenkmale.geojson\")"
   ]
  },
  {
   "cell_type": "markdown",
   "metadata": {},
   "source": [
    "Parkanlagen\n",
    "\n",
    "Quelle: [Transparenzportal Hamburg](http://suche.transparenz.hamburg.de/dataset/denkmalkartierung-hamburg9)"
   ]
  },
  {
   "cell_type": "code",
   "execution_count": 17,
   "metadata": {},
   "outputs": [],
   "source": [
    "parks_info = gpd.read_file(\"data/hamburg/Parkanlagen.geojson\")"
   ]
  },
  {
   "cell_type": "markdown",
   "metadata": {},
   "source": [
    "Gewässer\n",
    "\n",
    "Quelle: [Transparenzportal Hamburg](http://suche.transparenz.hamburg.de/dataset/denkmalkartierung-hamburg9)"
   ]
  },
  {
   "cell_type": "code",
   "execution_count": 18,
   "metadata": {},
   "outputs": [],
   "source": [
    "waters = gpd.read_file(\"data/hamburg/Gewaesser.geojson\")"
   ]
  },
  {
   "cell_type": "markdown",
   "metadata": {},
   "source": [
    "Öffentliche Plätze\n",
    "\n",
    "Quelle: [Transparenzportal Hamburg](http://suche.transparenz.hamburg.de/dataset/platze13)"
   ]
  },
  {
   "cell_type": "code",
   "execution_count": 19,
   "metadata": {},
   "outputs": [],
   "source": [
    "squares = gpd.read_file(\"data/hamburg/Plaetze.geojson\")"
   ]
  },
  {
   "cell_type": "markdown",
   "metadata": {},
   "source": [
    "### Gebäude"
   ]
  },
  {
   "cell_type": "markdown",
   "metadata": {},
   "source": [
    "Krankenhäuser\n",
    "\n",
    "Quelle: [govdata](https://ckan.govdata.de/de/dataset/krankenhauser-hamburg)"
   ]
  },
  {
   "cell_type": "code",
   "execution_count": 20,
   "metadata": {},
   "outputs": [],
   "source": [
    "hospitals = gpd.read_file(\"data/govdata/Krankenhaeuser.geojson\")"
   ]
  },
  {
   "cell_type": "markdown",
   "metadata": {},
   "source": [
    "Gebäude, die als Kulturdenkmale gelten\n",
    "\n",
    "Quelle: [Transparenzportal Hamburg](http://suche.transparenz.hamburg.de/dataset/denkmalkartierung-hamburg9)"
   ]
  },
  {
   "cell_type": "code",
   "execution_count": 21,
   "metadata": {},
   "outputs": [],
   "source": [
    "buildings = gpd.read_file(\"data/hamburg/Gebaeude.geojson\")"
   ]
  },
  {
   "cell_type": "markdown",
   "metadata": {},
   "source": [
    "Ensembles: Aus mindestens zwei Objekten bestehende Kulturdenkmale\n",
    "\n",
    "Quelle: [Transparenzportal Hamburg](http://suche.transparenz.hamburg.de/dataset/denkmalkartierung-hamburg9)"
   ]
  },
  {
   "cell_type": "code",
   "execution_count": 22,
   "metadata": {},
   "outputs": [],
   "source": [
    "ensembles = gpd.read_file(\"data/hamburg/Ensemble.geojson\")"
   ]
  },
  {
   "cell_type": "markdown",
   "metadata": {},
   "source": [
    "### Stadtteile"
   ]
  },
  {
   "cell_type": "markdown",
   "metadata": {},
   "source": [
    "Hamburger Stadtteile\n",
    "\n",
    "Quelle: [ArcGIS Hub](https://hub.arcgis.com/datasets/esri-de-content::stadtteile-hamburg)"
   ]
  },
  {
   "cell_type": "code",
   "execution_count": 23,
   "metadata": {},
   "outputs": [],
   "source": [
    "disctricts = gpd.read_file(\"data/arcgis/Stadtteile__Hamburg.geojson\")"
   ]
  },
  {
   "cell_type": "markdown",
   "metadata": {},
   "source": [
    "### Beschränkung der StadtRAD Buchungen"
   ]
  },
  {
   "cell_type": "markdown",
   "metadata": {},
   "source": [
    "Trotz des Fokus von kepler.gl auf große Datensätze hat das Framework Probleme mit der Größe des Datensatzes über StadtRAD-Buchungen. Dieser besitzt über acht Millionen Einträge. Auch die Übersichtlichkeit und die Filtermöglichkeiten sind bei großen Datensätzen stark eingeschränkt. Der Datensatz wird daher durch die Angabe eines Zeitrahmens beschränkt. Angezeigt werden in der Karte dann nur die Buchungen, bei denen sich der Zeitpunkt der Ausleihe (Spalte `date_from`) im angegebenen Rahmen befindet."
   ]
  },
  {
   "cell_type": "code",
   "execution_count": 22,
   "metadata": {},
   "outputs": [],
   "source": [
    "start_date = \"2016-01-01\"\n",
    "end_date = \"2016-01-08\"\n",
    "\n",
    "bike_bookings[\"date_from\"] =  pd.to_datetime(bike_bookings[\"date_from\"])\n",
    "mask = (bike_bookings[\"date_from\"] >= start_date) & (bike_bookings[\"date_from\"] <= end_date)\n",
    "bike_bookings[\"date_from\"] = bike_bookings[\"date_from\"].astype(str)\n",
    "selected_bike_bookings = bike_bookings.loc[mask]"
   ]
  },
  {
   "cell_type": "code",
   "execution_count": 23,
   "metadata": {},
   "outputs": [
    {
     "data": {
      "text/html": [
       "<div>\n",
       "<style scoped>\n",
       "    .dataframe tbody tr th:only-of-type {\n",
       "        vertical-align: middle;\n",
       "    }\n",
       "\n",
       "    .dataframe tbody tr th {\n",
       "        vertical-align: top;\n",
       "    }\n",
       "\n",
       "    .dataframe thead th {\n",
       "        text-align: right;\n",
       "    }\n",
       "</style>\n",
       "<table border=\"1\" class=\"dataframe\">\n",
       "  <thead>\n",
       "    <tr style=\"text-align: right;\">\n",
       "      <th></th>\n",
       "      <th>Unnamed: 0</th>\n",
       "      <th>bike_id</th>\n",
       "      <th>user_id</th>\n",
       "      <th>date_from</th>\n",
       "      <th>date_until</th>\n",
       "      <th>from_station_name</th>\n",
       "      <th>from_station_id</th>\n",
       "      <th>to_station_name</th>\n",
       "      <th>to_station_id</th>\n",
       "      <th>booked_via</th>\n",
       "      <th>duration_in_min</th>\n",
       "      <th>from_station_lat</th>\n",
       "      <th>from_station_lng</th>\n",
       "      <th>to_station_lat</th>\n",
       "      <th>to_station_lng</th>\n",
       "    </tr>\n",
       "  </thead>\n",
       "  <tbody>\n",
       "    <tr>\n",
       "      <th>4504944</th>\n",
       "      <td>4504944</td>\n",
       "      <td>108647</td>\n",
       "      <td>0BFC9CA3CA75AEAE16A6BF86913AF5D8613B20BD</td>\n",
       "      <td>2016-01-01 00:44:49</td>\n",
       "      <td>2016-01-01 01:13:37</td>\n",
       "      <td>Überseering/Mexikoring</td>\n",
       "      <td>213687</td>\n",
       "      <td>Bebelallee/Meenkwiese</td>\n",
       "      <td>213855</td>\n",
       "      <td>Android SRH</td>\n",
       "      <td>29</td>\n",
       "      <td>53.601619</td>\n",
       "      <td>10.024745</td>\n",
       "      <td>53.599203</td>\n",
       "      <td>9.994017</td>\n",
       "    </tr>\n",
       "    <tr>\n",
       "      <th>4505097</th>\n",
       "      <td>4505097</td>\n",
       "      <td>108371</td>\n",
       "      <td>48A88184B22E7171E8A03E34FF32E761DD83CA92</td>\n",
       "      <td>2016-01-01 00:31:46</td>\n",
       "      <td>2016-01-01 00:58:49</td>\n",
       "      <td>Stadthausbrücke / Neuer Wall</td>\n",
       "      <td>138379</td>\n",
       "      <td>Goldbekplatz / Semperstraße</td>\n",
       "      <td>140796</td>\n",
       "      <td>iPhone SRH</td>\n",
       "      <td>28</td>\n",
       "      <td>53.549672</td>\n",
       "      <td>9.986594</td>\n",
       "      <td>53.583800</td>\n",
       "      <td>10.010000</td>\n",
       "    </tr>\n",
       "    <tr>\n",
       "      <th>4505169</th>\n",
       "      <td>4505169</td>\n",
       "      <td>119829</td>\n",
       "      <td>F84BCAB7154C63B9E4A7E7EA13BB4FA493539A12</td>\n",
       "      <td>2016-01-01 00:38:37</td>\n",
       "      <td>2016-01-01 00:49:50</td>\n",
       "      <td>Jungfernstieg / Ballindamm</td>\n",
       "      <td>131879</td>\n",
       "      <td>Hauptbahnhof Ost / Hachmannplatz</td>\n",
       "      <td>131873</td>\n",
       "      <td>iPhone CAB</td>\n",
       "      <td>12</td>\n",
       "      <td>53.552244</td>\n",
       "      <td>9.995501</td>\n",
       "      <td>53.554307</td>\n",
       "      <td>10.007652</td>\n",
       "    </tr>\n",
       "    <tr>\n",
       "      <th>4505189</th>\n",
       "      <td>4505189</td>\n",
       "      <td>116810</td>\n",
       "      <td>7D8127DA8F382BF2C3A8FD31202D46A150A513AE</td>\n",
       "      <td>2016-01-01 01:11:00</td>\n",
       "      <td>2016-01-01 02:26:23</td>\n",
       "      <td>Hudtwalckerstraße / Bebelallee</td>\n",
       "      <td>138378</td>\n",
       "      <td>Kellinghusenstraße / Loogeplatz</td>\n",
       "      <td>140795</td>\n",
       "      <td>Terminal HH_72 (-2369-)</td>\n",
       "      <td>76</td>\n",
       "      <td>53.594300</td>\n",
       "      <td>9.995750</td>\n",
       "      <td>53.588516</td>\n",
       "      <td>9.991125</td>\n",
       "    </tr>\n",
       "    <tr>\n",
       "      <th>4505217</th>\n",
       "      <td>4505217</td>\n",
       "      <td>120345</td>\n",
       "      <td>AEE37262F04CB04681868F6E8CEE2D7F9CDA6997</td>\n",
       "      <td>2016-01-01 01:06:17</td>\n",
       "      <td>2016-01-01 01:15:16</td>\n",
       "      <td>Bahnhof Dammtor Nord // Theodor-Heuss-Platz</td>\n",
       "      <td>131883</td>\n",
       "      <td>Feldstraße / Marktstraße</td>\n",
       "      <td>244093</td>\n",
       "      <td>Android SRH</td>\n",
       "      <td>9</td>\n",
       "      <td>53.561400</td>\n",
       "      <td>9.990430</td>\n",
       "      <td>53.557414</td>\n",
       "      <td>9.969178</td>\n",
       "    </tr>\n",
       "    <tr>\n",
       "      <th>...</th>\n",
       "      <td>...</td>\n",
       "      <td>...</td>\n",
       "      <td>...</td>\n",
       "      <td>...</td>\n",
       "      <td>...</td>\n",
       "      <td>...</td>\n",
       "      <td>...</td>\n",
       "      <td>...</td>\n",
       "      <td>...</td>\n",
       "      <td>...</td>\n",
       "      <td>...</td>\n",
       "      <td>...</td>\n",
       "      <td>...</td>\n",
       "      <td>...</td>\n",
       "      <td>...</td>\n",
       "    </tr>\n",
       "    <tr>\n",
       "      <th>4525169</th>\n",
       "      <td>4525169</td>\n",
       "      <td>119319</td>\n",
       "      <td>7DBBEBB644112D600AE21335823BDC27A4529EB1</td>\n",
       "      <td>2016-01-07 20:20:02</td>\n",
       "      <td>2016-01-07 20:33:30</td>\n",
       "      <td>Fischersallee/Bleickenallee</td>\n",
       "      <td>211711</td>\n",
       "      <td>Fischmarkt/Breite Straße</td>\n",
       "      <td>131546</td>\n",
       "      <td>iPhone SRH</td>\n",
       "      <td>14</td>\n",
       "      <td>53.550966</td>\n",
       "      <td>9.922260</td>\n",
       "      <td>53.546200</td>\n",
       "      <td>9.950880</td>\n",
       "    </tr>\n",
       "    <tr>\n",
       "      <th>4525170</th>\n",
       "      <td>4525170</td>\n",
       "      <td>143518</td>\n",
       "      <td>3A7B5268DE2E491315A007BFE885132C26FBF9BA</td>\n",
       "      <td>2016-01-07 20:45:39</td>\n",
       "      <td>2016-01-07 20:58:39</td>\n",
       "      <td>Enckeplatz / Hütten</td>\n",
       "      <td>131887</td>\n",
       "      <td>Allende-Platz/Grindelhof</td>\n",
       "      <td>198077</td>\n",
       "      <td>Android SRH</td>\n",
       "      <td>13</td>\n",
       "      <td>53.552400</td>\n",
       "      <td>9.976950</td>\n",
       "      <td>53.567845</td>\n",
       "      <td>9.982728</td>\n",
       "    </tr>\n",
       "    <tr>\n",
       "      <th>4525171</th>\n",
       "      <td>4525171</td>\n",
       "      <td>108609</td>\n",
       "      <td>2A2FBD17088D0F73DC9458DF1FB5721B29267682</td>\n",
       "      <td>2016-01-07 21:03:32</td>\n",
       "      <td>2016-01-07 21:14:07</td>\n",
       "      <td>Bartholomäusstraße/Beim Alten Schützenhof</td>\n",
       "      <td>211923</td>\n",
       "      <td>Saarlandstraße/Wiesendamm</td>\n",
       "      <td>203890</td>\n",
       "      <td>iPhone SRH</td>\n",
       "      <td>11</td>\n",
       "      <td>53.575652</td>\n",
       "      <td>10.029570</td>\n",
       "      <td>53.588735</td>\n",
       "      <td>10.032680</td>\n",
       "    </tr>\n",
       "    <tr>\n",
       "      <th>4525172</th>\n",
       "      <td>4525172</td>\n",
       "      <td>117357</td>\n",
       "      <td>76DF46352C65932CD9658114B8D5592E3FBD3EBF</td>\n",
       "      <td>2016-01-07 21:27:03</td>\n",
       "      <td>2016-01-07 21:41:49</td>\n",
       "      <td>Reeperbahn / Königstraße</td>\n",
       "      <td>131902</td>\n",
       "      <td>Lappenbergsallee / Bei der Apostelkirche</td>\n",
       "      <td>243618</td>\n",
       "      <td>Terminal HH_2 (-2111-)</td>\n",
       "      <td>15</td>\n",
       "      <td>53.549501</td>\n",
       "      <td>9.954934</td>\n",
       "      <td>53.575573</td>\n",
       "      <td>9.944487</td>\n",
       "    </tr>\n",
       "    <tr>\n",
       "      <th>4525227</th>\n",
       "      <td>4525227</td>\n",
       "      <td>143705</td>\n",
       "      <td>2418273B8AE01F7D5E2B423CFA9B513587C746FB</td>\n",
       "      <td>2016-01-07 23:08:31</td>\n",
       "      <td>2016-01-07 23:18:38</td>\n",
       "      <td>Feldstraße / Marktstraße</td>\n",
       "      <td>244093</td>\n",
       "      <td>Christuskirche/Fruchtallee</td>\n",
       "      <td>131643</td>\n",
       "      <td>Android SRH</td>\n",
       "      <td>11</td>\n",
       "      <td>53.557414</td>\n",
       "      <td>9.969178</td>\n",
       "      <td>53.569500</td>\n",
       "      <td>9.963090</td>\n",
       "    </tr>\n",
       "  </tbody>\n",
       "</table>\n",
       "<p>17705 rows × 15 columns</p>\n",
       "</div>"
      ],
      "text/plain": [
       "         Unnamed: 0  bike_id                                   user_id  \\\n",
       "4504944     4504944   108647  0BFC9CA3CA75AEAE16A6BF86913AF5D8613B20BD   \n",
       "4505097     4505097   108371  48A88184B22E7171E8A03E34FF32E761DD83CA92   \n",
       "4505169     4505169   119829  F84BCAB7154C63B9E4A7E7EA13BB4FA493539A12   \n",
       "4505189     4505189   116810  7D8127DA8F382BF2C3A8FD31202D46A150A513AE   \n",
       "4505217     4505217   120345  AEE37262F04CB04681868F6E8CEE2D7F9CDA6997   \n",
       "...             ...      ...                                       ...   \n",
       "4525169     4525169   119319  7DBBEBB644112D600AE21335823BDC27A4529EB1   \n",
       "4525170     4525170   143518  3A7B5268DE2E491315A007BFE885132C26FBF9BA   \n",
       "4525171     4525171   108609  2A2FBD17088D0F73DC9458DF1FB5721B29267682   \n",
       "4525172     4525172   117357  76DF46352C65932CD9658114B8D5592E3FBD3EBF   \n",
       "4525227     4525227   143705  2418273B8AE01F7D5E2B423CFA9B513587C746FB   \n",
       "\n",
       "                   date_from           date_until  \\\n",
       "4504944  2016-01-01 00:44:49  2016-01-01 01:13:37   \n",
       "4505097  2016-01-01 00:31:46  2016-01-01 00:58:49   \n",
       "4505169  2016-01-01 00:38:37  2016-01-01 00:49:50   \n",
       "4505189  2016-01-01 01:11:00  2016-01-01 02:26:23   \n",
       "4505217  2016-01-01 01:06:17  2016-01-01 01:15:16   \n",
       "...                      ...                  ...   \n",
       "4525169  2016-01-07 20:20:02  2016-01-07 20:33:30   \n",
       "4525170  2016-01-07 20:45:39  2016-01-07 20:58:39   \n",
       "4525171  2016-01-07 21:03:32  2016-01-07 21:14:07   \n",
       "4525172  2016-01-07 21:27:03  2016-01-07 21:41:49   \n",
       "4525227  2016-01-07 23:08:31  2016-01-07 23:18:38   \n",
       "\n",
       "                                   from_station_name  from_station_id  \\\n",
       "4504944                       Überseering/Mexikoring           213687   \n",
       "4505097                 Stadthausbrücke / Neuer Wall           138379   \n",
       "4505169                   Jungfernstieg / Ballindamm           131879   \n",
       "4505189               Hudtwalckerstraße / Bebelallee           138378   \n",
       "4505217  Bahnhof Dammtor Nord // Theodor-Heuss-Platz           131883   \n",
       "...                                              ...              ...   \n",
       "4525169                  Fischersallee/Bleickenallee           211711   \n",
       "4525170                          Enckeplatz / Hütten           131887   \n",
       "4525171    Bartholomäusstraße/Beim Alten Schützenhof           211923   \n",
       "4525172                     Reeperbahn / Königstraße           131902   \n",
       "4525227                     Feldstraße / Marktstraße           244093   \n",
       "\n",
       "                                  to_station_name  to_station_id  \\\n",
       "4504944                     Bebelallee/Meenkwiese         213855   \n",
       "4505097               Goldbekplatz / Semperstraße         140796   \n",
       "4505169          Hauptbahnhof Ost / Hachmannplatz         131873   \n",
       "4505189           Kellinghusenstraße / Loogeplatz         140795   \n",
       "4505217                  Feldstraße / Marktstraße         244093   \n",
       "...                                           ...            ...   \n",
       "4525169                  Fischmarkt/Breite Straße         131546   \n",
       "4525170                  Allende-Platz/Grindelhof         198077   \n",
       "4525171                 Saarlandstraße/Wiesendamm         203890   \n",
       "4525172  Lappenbergsallee / Bei der Apostelkirche         243618   \n",
       "4525227                Christuskirche/Fruchtallee         131643   \n",
       "\n",
       "                      booked_via  duration_in_min  from_station_lat  \\\n",
       "4504944              Android SRH               29         53.601619   \n",
       "4505097               iPhone SRH               28         53.549672   \n",
       "4505169               iPhone CAB               12         53.552244   \n",
       "4505189  Terminal HH_72 (-2369-)               76         53.594300   \n",
       "4505217              Android SRH                9         53.561400   \n",
       "...                          ...              ...               ...   \n",
       "4525169               iPhone SRH               14         53.550966   \n",
       "4525170              Android SRH               13         53.552400   \n",
       "4525171               iPhone SRH               11         53.575652   \n",
       "4525172   Terminal HH_2 (-2111-)               15         53.549501   \n",
       "4525227              Android SRH               11         53.557414   \n",
       "\n",
       "         from_station_lng  to_station_lat  to_station_lng  \n",
       "4504944         10.024745       53.599203        9.994017  \n",
       "4505097          9.986594       53.583800       10.010000  \n",
       "4505169          9.995501       53.554307       10.007652  \n",
       "4505189          9.995750       53.588516        9.991125  \n",
       "4505217          9.990430       53.557414        9.969178  \n",
       "...                   ...             ...             ...  \n",
       "4525169          9.922260       53.546200        9.950880  \n",
       "4525170          9.976950       53.567845        9.982728  \n",
       "4525171         10.029570       53.588735       10.032680  \n",
       "4525172          9.954934       53.575573        9.944487  \n",
       "4525227          9.969178       53.569500        9.963090  \n",
       "\n",
       "[17705 rows x 15 columns]"
      ]
     },
     "execution_count": 23,
     "metadata": {},
     "output_type": "execute_result"
    }
   ],
   "source": [
    "selected_bike_bookings"
   ]
  },
  {
   "cell_type": "markdown",
   "metadata": {},
   "source": [
    "## Visualisierung mit kepler.gl"
   ]
  },
  {
   "cell_type": "code",
   "execution_count": 24,
   "metadata": {},
   "outputs": [],
   "source": [
    "data = {\n",
    "    \"stadtrad\": stadtrad,\n",
    "    \"selected_bike_bookings\": selected_bike_bookings,\n",
    "    \"bike_routes_distant\": bike_routes_distant,\n",
    "    \"bike_routes_leisure\": bike_routes_leisure,\n",
    "    \"bike_routes\": bike_routes,\n",
    "    \"public_transport\": public_transport,\n",
    "    \"public_transport_lines\": public_transport_lines,\n",
    "    \"traffic_cameras\": traffic_cameras,\n",
    "    \"ecar_charging\": ecar_charging,\n",
    "    \"bike_and_ride\": bike_and_ride,\n",
    "    \"playgrounds\": playgrounds,\n",
    "    \"sports\": sports,\n",
    "    \"parks\": parks,\n",
    "    \"parks_info\": parks_info,\n",
    "    \"waters\": waters,\n",
    "    \"squares\": squares,\n",
    "    \"hospitals\": hospitals,\n",
    "    \"buildings\": buildings,\n",
    "    \"ensembles\": ensembles,\n",
    "    \"disctricts\": disctricts\n",
    "}"
   ]
  },
  {
   "cell_type": "markdown",
   "metadata": {},
   "source": [
    "### Laden der Konfiguration"
   ]
  },
  {
   "cell_type": "code",
   "execution_count": 25,
   "metadata": {},
   "outputs": [],
   "source": [
    "with open(\"config/mobility_map.json\", \"r\") as file:\n",
    "    config = json.load(file)"
   ]
  },
  {
   "cell_type": "markdown",
   "metadata": {},
   "source": [
    "### Erstellen der Karte\n",
    "\n",
    "Die Karte wird durch kepler.gl generiert und anschließend im root-Verzeichnis als HTML gespeichert. Dies bietet die Möglichkeit, die Karte außerhalb des Jupyer Notebook in einem eigenen Fenster zu öffnen, wodurch sie sich leichter bedienen lässt."
   ]
  },
  {
   "cell_type": "code",
   "execution_count": 26,
   "metadata": {},
   "outputs": [
    {
     "name": "stdout",
     "output_type": "stream",
     "text": [
      "User Guide: https://github.com/keplergl/kepler.gl/blob/master/docs/keplergl-jupyter/user-guide.md\n",
      "Map saved to generated_maps/mobility_map.html!\n"
     ]
    }
   ],
   "source": [
    "mobility_map = KeplerGl(height=700, data=data, config=config)\n",
    "mobility_map.save_to_html(file_name=\"generated_maps/mobility_map.html\")"
   ]
  },
  {
   "cell_type": "markdown",
   "metadata": {},
   "source": [
    "## [Mobility Map](http://localhost:8888/view/mobility_map.html)\n",
    "\n",
    "Der Link öffnet die generierte Map in einem neuen Fenster."
   ]
  },
  {
   "cell_type": "code",
   "execution_count": 27,
   "metadata": {},
   "outputs": [
    {
     "data": {
      "application/vnd.jupyter.widget-view+json": {
       "model_id": "d7f63c3db7be47019cbda3d63b3bb77d",
       "version_major": 2,
       "version_minor": 0
      },
      "text/plain": [
       "KeplerGl(config={'version': 'v1', 'config': {'visState': {'filters': [{'dataId': 'selected_bike_bookings', 'id…"
      ]
     },
     "metadata": {},
     "output_type": "display_data"
    }
   ],
   "source": [
    "mobility_map"
   ]
  },
  {
   "cell_type": "markdown",
   "metadata": {},
   "source": [
    "Nachfolgend wird die Konfiguration der Layer gespeichert."
   ]
  },
  {
   "cell_type": "code",
   "execution_count": 29,
   "metadata": {},
   "outputs": [],
   "source": [
    "with open(\"config/mobility_map.json\", \"w\") as file:\n",
    "    json.dump(mobility_map.config, file, indent=2)"
   ]
  },
  {
   "cell_type": "code",
   "execution_count": null,
   "metadata": {},
   "outputs": [],
   "source": []
  }
 ],
 "metadata": {
  "kernelspec": {
   "display_name": "Python 3",
   "language": "python",
   "name": "python3"
  },
  "language_info": {
   "codemirror_mode": {
    "name": "ipython",
    "version": 3
   },
   "file_extension": ".py",
   "mimetype": "text/x-python",
   "name": "python",
   "nbconvert_exporter": "python",
   "pygments_lexer": "ipython3",
   "version": "3.7.7"
  }
 },
 "nbformat": 4,
 "nbformat_minor": 4
}
