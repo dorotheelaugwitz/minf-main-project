{
 "cells": [
  {
   "cell_type": "markdown",
   "metadata": {},
   "source": [
    "# StadtRAD Quartale\n",
    "\n",
    "Dieses Notebook dient dazu, Kelper.gl Visualisierungen für StadtRAD Buchungen aufzuteilen. Der komplette Datensatz wird dabei in Quartale unterteilt. Eine Buchung wird zu einem Quartal gezählt, wenn der Zeitpunkt der **Ausleihe** (`date_from`) in dem entsprechenden Quartal liegt. Pro Quartal wird eine Karte generiert und als HTML-Datei gespeichert, da diese im Browser effektiver angezeigt und bedient werden können."
   ]
  },
  {
   "cell_type": "code",
   "execution_count": 1,
   "metadata": {},
   "outputs": [],
   "source": [
    "import json\n",
    "import pandas as pd\n",
    "from keplergl import KeplerGl"
   ]
  },
  {
   "cell_type": "code",
   "execution_count": 2,
   "metadata": {},
   "outputs": [],
   "source": [
    "bookings = pd.read_csv(\"data/call_a_bike/bookings.csv\")\n",
    "bookings[\"date_from\"] =  pd.to_datetime(bookings[\"date_from\"])\n",
    "bookings[\"date_until\"] =  pd.to_datetime(bookings[\"date_until\"])"
   ]
  },
  {
   "cell_type": "code",
   "execution_count": 3,
   "metadata": {},
   "outputs": [
    {
     "data": {
      "text/plain": [
       "Timestamp('2014-01-01 00:02:51')"
      ]
     },
     "execution_count": 3,
     "metadata": {},
     "output_type": "execute_result"
    }
   ],
   "source": [
    "bookings[\"date_from\"].min()"
   ]
  },
  {
   "cell_type": "code",
   "execution_count": 4,
   "metadata": {},
   "outputs": [
    {
     "data": {
      "text/plain": [
       "Timestamp('2017-05-16 08:14:13')"
      ]
     },
     "execution_count": 4,
     "metadata": {},
     "output_type": "execute_result"
    }
   ],
   "source": [
    "bookings[\"date_until\"].max()"
   ]
  },
  {
   "cell_type": "markdown",
   "metadata": {},
   "source": [
    "Zeitspanne: 01.01.2014 - 16.05.2017\n",
    "\n",
    "Mit dem Toggle `render_map` kann die Darstellung der Karten innerhalb dieses Notebooks aktiviert bzw. deaktiviert werden. Da das Rendern der Karten viele Ressourcen benötigt, sollte das Toggle deaktiviert werden. Die HTML-Karten werden in jedem Fall generiert."
   ]
  },
  {
   "cell_type": "code",
   "execution_count": 5,
   "metadata": {},
   "outputs": [],
   "source": [
    "render_map = False"
   ]
  },
  {
   "cell_type": "markdown",
   "metadata": {},
   "source": [
    "Jede Karte enthält einen Filter, mit dem die Auswahl der Buchungen beschränkt werden kann. Es werden dann nur noch alle Buchungen angezeigt, deren `date_from`  Wert innerhalb des gewählten Zeitfensters liegt. Das Zeitfenster lässt sich nur durch die Anpassung des Schiebereglers verändern. Die Angabe einer konkreten Zahl ist über die Karte leider nicht möglich. Allerdings kann die JSON-Konfiguration angepasst werden. Dafür kann mit dem Wert `date_filter_size_in_h` die Größe des Zeitfensters in Stunden bestimmt werden."
   ]
  },
  {
   "cell_type": "code",
   "execution_count": 6,
   "metadata": {},
   "outputs": [],
   "source": [
    "date_filter_size_in_h = 6"
   ]
  },
  {
   "cell_type": "code",
   "execution_count": 7,
   "metadata": {},
   "outputs": [],
   "source": [
    "def select_data(start_date, end_date):\n",
    "    mask = (bookings[\"date_from\"] >= start_date) & (bookings[\"date_from\"] <= end_date)\n",
    "    selected_bookings = bookings.copy().loc[mask]\n",
    "    selected_bookings[\"date_from\"] = selected_bookings[\"date_from\"].astype(str)\n",
    "    selected_bookings[\"date_until\"] = selected_bookings[\"date_until\"].astype(str)\n",
    "    return selected_bookings"
   ]
  },
  {
   "cell_type": "code",
   "execution_count": 8,
   "metadata": {},
   "outputs": [],
   "source": [
    "def update_time_filter_timestamps(config, start_date):\n",
    "    filters = config[\"config\"][\"visState\"][\"filters\"]\n",
    "    for filter_config in filters:\n",
    "        if filter_config[\"name\"] == \"date_from\":\n",
    "            timestamp1 = (pd.to_datetime(start_date) - pd.Timestamp(\"1970-01-01\")) // pd.Timedelta(\"1ms\")\n",
    "            timestamp2 = timestamp1 + (date_filter_size_in_h * 60 * 60)\n",
    "            filter_config[\"value\"] = [timestamp1, timestamp2]\n",
    "    return config"
   ]
  },
  {
   "cell_type": "code",
   "execution_count": 26,
   "metadata": {},
   "outputs": [],
   "source": [
    "def render_map(df, html_file_name):\n",
    "    with open(\"config/quarters.json\", \"r\") as file:\n",
    "        map_config = json.load(file)\n",
    "    map_config = update_time_filter_timestamps(map_config, df[\"date_from\"].min())\n",
    "    tmp_map = KeplerGl(height=700, data={\"bookings\": df}, config=map_config)\n",
    "    tmp_map.save_to_html(file_name=html_file_name)\n",
    "    if render_map:\n",
    "        return tmp_map\n",
    "    else:\n",
    "        return None"
   ]
  },
  {
   "cell_type": "markdown",
   "metadata": {},
   "source": [
    "## Q1 2014"
   ]
  },
  {
   "cell_type": "code",
   "execution_count": 27,
   "metadata": {},
   "outputs": [
    {
     "name": "stdout",
     "output_type": "stream",
     "text": [
      "User Guide: https://github.com/keplergl/kepler.gl/blob/master/docs/keplergl-jupyter/user-guide.md\n",
      "Map saved to generated_maps/2014_q1.html!\n"
     ]
    },
    {
     "data": {
      "application/vnd.jupyter.widget-view+json": {
       "model_id": "39bc68aedc67444a8a8a9836af962f98",
       "version_major": 2,
       "version_minor": 0
      },
      "text/plain": [
       "KeplerGl(config={'version': 'v1', 'config': {'visState': {'filters': [{'dataId': 'bookings', 'id': '2l16eicm',…"
      ]
     },
     "metadata": {},
     "output_type": "display_data"
    }
   ],
   "source": [
    "tmp_map = render_map(\n",
    "    select_data(\"2014-01-01\", \"2014-03-31\"),\n",
    "    \"generated_maps/2014_q1.html\"\n",
    ")\n",
    "tmp_map"
   ]
  },
  {
   "cell_type": "markdown",
   "metadata": {},
   "source": [
    "Die Konfiguration dieser Map kann gespeichert und für alle weitere übernommen werden, indem das Notebook neu ausgeführt wird."
   ]
  },
  {
   "cell_type": "code",
   "execution_count": 11,
   "metadata": {
    "jupyter": {
     "outputs_hidden": true
    }
   },
   "outputs": [
    {
     "data": {
      "text/plain": [
       "{'version': 'v1',\n",
       " 'config': {'visState': {'filters': [{'dataId': 'bookings',\n",
       "     'id': '2l16eicm',\n",
       "     'name': 'duration_in_min',\n",
       "     'type': 'range',\n",
       "     'value': [1, 120],\n",
       "     'enlarged': False,\n",
       "     'plotType': 'histogram',\n",
       "     'yAxis': None},\n",
       "    {'dataId': 'bookings',\n",
       "     'id': 'rr5pqlc4k',\n",
       "     'name': 'date_from',\n",
       "     'type': 'timeRange',\n",
       "     'value': [1388534571000, 1388534592600],\n",
       "     'enlarged': True,\n",
       "     'plotType': 'histogram',\n",
       "     'yAxis': None}],\n",
       "   'layers': [{'id': '6fcgw7',\n",
       "     'type': 'arc',\n",
       "     'config': {'dataId': 'bookings',\n",
       "      'label': 'Buchungen',\n",
       "      'color': [130, 154, 227],\n",
       "      'columns': {'lat0': 'from_station_lat',\n",
       "       'lng0': 'from_station_lng',\n",
       "       'lat1': 'to_station_lat',\n",
       "       'lng1': 'to_station_lng'},\n",
       "      'isVisible': True,\n",
       "      'visConfig': {'opacity': 0.5,\n",
       "       'thickness': 1,\n",
       "       'colorRange': {'name': 'Uber Viz Diverging 3.5',\n",
       "        'type': 'diverging',\n",
       "        'category': 'Uber',\n",
       "        'colors': ['#00939C',\n",
       "         '#2FA7AE',\n",
       "         '#5DBABF',\n",
       "         '#8CCED1',\n",
       "         '#BAE1E2',\n",
       "         '#F8C0AA',\n",
       "         '#EB9C80',\n",
       "         '#DD7755',\n",
       "         '#D0532B',\n",
       "         '#C22E00']},\n",
       "       'sizeRange': [0, 10],\n",
       "       'targetColor': None},\n",
       "      'textLabel': [{'field': None,\n",
       "        'color': [255, 255, 255],\n",
       "        'size': 18,\n",
       "        'offset': [0, 0],\n",
       "        'anchor': 'start',\n",
       "        'alignment': 'center'}]},\n",
       "     'visualChannels': {'colorField': {'name': 'duration_in_min',\n",
       "       'type': 'integer'},\n",
       "      'colorScale': 'quantile',\n",
       "      'sizeField': None,\n",
       "      'sizeScale': 'linear'}}],\n",
       "   'interactionConfig': {'tooltip': {'fieldsToShow': {'bookings': ['date_from',\n",
       "       'date_until',\n",
       "       'from_station_name',\n",
       "       'to_station_name',\n",
       "       'booked_via',\n",
       "       'duration_in_min']},\n",
       "     'enabled': True},\n",
       "    'brush': {'size': 0.5, 'enabled': False}},\n",
       "   'layerBlending': 'normal',\n",
       "   'splitMaps': [],\n",
       "   'animationConfig': {'currentTime': None, 'speed': 1}},\n",
       "  'mapState': {'bearing': 0,\n",
       "   'dragRotate': False,\n",
       "   'latitude': 53.56254828110063,\n",
       "   'longitude': 9.997696802102597,\n",
       "   'pitch': 0,\n",
       "   'zoom': 11.677755783813819,\n",
       "   'isSplit': False},\n",
       "  'mapStyle': {'styleType': 'dark',\n",
       "   'topLayerGroups': {},\n",
       "   'visibleLayerGroups': {'label': True,\n",
       "    'road': True,\n",
       "    'border': False,\n",
       "    'building': True,\n",
       "    'water': True,\n",
       "    'land': True,\n",
       "    '3d building': False},\n",
       "   'threeDBuildingColor': [9.665468314072013,\n",
       "    17.18305478057247,\n",
       "    31.1442867897876],\n",
       "   'mapStyles': {}}}}"
      ]
     },
     "execution_count": 11,
     "metadata": {},
     "output_type": "execute_result"
    }
   ],
   "source": [
    "tmp_map.config"
   ]
  },
  {
   "cell_type": "code",
   "execution_count": 12,
   "metadata": {},
   "outputs": [],
   "source": [
    "# Aktuelle Konfiguration der Map speichern\n",
    "if False:\n",
    "    with open(\"config/quarters.json\", \"w\") as file:\n",
    "        json.dump(tmp_map.config, file, indent=2)"
   ]
  },
  {
   "cell_type": "markdown",
   "metadata": {},
   "source": [
    "## Q2 2014"
   ]
  },
  {
   "cell_type": "code",
   "execution_count": 28,
   "metadata": {},
   "outputs": [
    {
     "name": "stdout",
     "output_type": "stream",
     "text": [
      "User Guide: https://github.com/keplergl/kepler.gl/blob/master/docs/keplergl-jupyter/user-guide.md\n",
      "Map saved to generated_maps/2014_q2.html!\n"
     ]
    },
    {
     "data": {
      "application/vnd.jupyter.widget-view+json": {
       "model_id": "d3cc1f75505a40caade68dcde99592d6",
       "version_major": 2,
       "version_minor": 0
      },
      "text/plain": [
       "KeplerGl(config={'version': 'v1', 'config': {'visState': {'filters': [{'dataId': 'bookings', 'id': '2l16eicm',…"
      ]
     },
     "metadata": {},
     "output_type": "display_data"
    }
   ],
   "source": [
    "render_map(\n",
    "    select_data(\"2014-04-01\", \"2014-06-30\"),\n",
    "    \"generated_maps/2014_q2.html\"\n",
    ")"
   ]
  },
  {
   "cell_type": "markdown",
   "metadata": {},
   "source": [
    "## Q3 2014"
   ]
  },
  {
   "cell_type": "code",
   "execution_count": 14,
   "metadata": {
    "scrolled": true
   },
   "outputs": [
    {
     "name": "stdout",
     "output_type": "stream",
     "text": [
      "User Guide: https://github.com/keplergl/kepler.gl/blob/master/docs/keplergl-jupyter/user-guide.md\n",
      "Map saved to generated_maps/2014_q3.html!\n"
     ]
    },
    {
     "data": {
      "application/vnd.jupyter.widget-view+json": {
       "model_id": "3527e244a4c54968beb8b22a6599eb94",
       "version_major": 2,
       "version_minor": 0
      },
      "text/plain": [
       "KeplerGl(config={'version': 'v1', 'config': {'visState': {'filters': [{'dataId': 'bookings', 'id': '2l16eicm',…"
      ]
     },
     "metadata": {},
     "output_type": "display_data"
    }
   ],
   "source": [
    "render_map(\n",
    "    select_data(\"2014-07-01\", \"2014-09-30\"),\n",
    "    \"generated_maps/2014_q3.html\"\n",
    ")"
   ]
  },
  {
   "cell_type": "markdown",
   "metadata": {},
   "source": [
    "## Q4 2014"
   ]
  },
  {
   "cell_type": "code",
   "execution_count": 15,
   "metadata": {
    "scrolled": true
   },
   "outputs": [
    {
     "name": "stdout",
     "output_type": "stream",
     "text": [
      "User Guide: https://github.com/keplergl/kepler.gl/blob/master/docs/keplergl-jupyter/user-guide.md\n",
      "Map saved to generated_maps/2014_q4.html!\n"
     ]
    },
    {
     "data": {
      "application/vnd.jupyter.widget-view+json": {
       "model_id": "f5de5381f44e4e09b2b982c527facb2e",
       "version_major": 2,
       "version_minor": 0
      },
      "text/plain": [
       "KeplerGl(config={'version': 'v1', 'config': {'visState': {'filters': [{'dataId': 'bookings', 'id': '2l16eicm',…"
      ]
     },
     "metadata": {},
     "output_type": "display_data"
    }
   ],
   "source": [
    "render_map(\n",
    "    select_data(\"2014-10-01\", \"2014-12-31\"),\n",
    "    \"generated_maps/2014_q4.html\"\n",
    ")"
   ]
  },
  {
   "cell_type": "markdown",
   "metadata": {},
   "source": [
    "## Q1 2015"
   ]
  },
  {
   "cell_type": "code",
   "execution_count": 16,
   "metadata": {},
   "outputs": [
    {
     "name": "stdout",
     "output_type": "stream",
     "text": [
      "User Guide: https://github.com/keplergl/kepler.gl/blob/master/docs/keplergl-jupyter/user-guide.md\n",
      "Map saved to generated_maps/2015_q1.html!\n"
     ]
    },
    {
     "data": {
      "application/vnd.jupyter.widget-view+json": {
       "model_id": "1d466125d4bc4729ab578b5b083471a8",
       "version_major": 2,
       "version_minor": 0
      },
      "text/plain": [
       "KeplerGl(config={'version': 'v1', 'config': {'visState': {'filters': [{'dataId': 'bookings', 'id': '2l16eicm',…"
      ]
     },
     "metadata": {},
     "output_type": "display_data"
    }
   ],
   "source": [
    "render_map(\n",
    "    select_data(\"2015-01-01\", \"2015-03-31\"),\n",
    "    \"generated_maps/2015_q1.html\"\n",
    ")"
   ]
  },
  {
   "cell_type": "markdown",
   "metadata": {},
   "source": [
    "## Q2 2015"
   ]
  },
  {
   "cell_type": "code",
   "execution_count": 17,
   "metadata": {},
   "outputs": [
    {
     "name": "stdout",
     "output_type": "stream",
     "text": [
      "User Guide: https://github.com/keplergl/kepler.gl/blob/master/docs/keplergl-jupyter/user-guide.md\n",
      "Map saved to generated_maps/2015_q2.html!\n"
     ]
    },
    {
     "data": {
      "application/vnd.jupyter.widget-view+json": {
       "model_id": "37c909e2b9b04c53ba623a4f9f77de69",
       "version_major": 2,
       "version_minor": 0
      },
      "text/plain": [
       "KeplerGl(config={'version': 'v1', 'config': {'visState': {'filters': [{'dataId': 'bookings', 'id': '2l16eicm',…"
      ]
     },
     "metadata": {},
     "output_type": "display_data"
    }
   ],
   "source": [
    "render_map(\n",
    "    select_data(\"2015-04-01\", \"2015-06-30\"),\n",
    "    \"generated_maps/2015_q2.html\"\n",
    ")"
   ]
  },
  {
   "cell_type": "markdown",
   "metadata": {},
   "source": [
    "## Q3 2015"
   ]
  },
  {
   "cell_type": "code",
   "execution_count": 18,
   "metadata": {
    "scrolled": true
   },
   "outputs": [
    {
     "name": "stdout",
     "output_type": "stream",
     "text": [
      "User Guide: https://github.com/keplergl/kepler.gl/blob/master/docs/keplergl-jupyter/user-guide.md\n",
      "Map saved to generated_maps/2015_q3.html!\n"
     ]
    },
    {
     "data": {
      "application/vnd.jupyter.widget-view+json": {
       "model_id": "80f2448451e34730aab2cbf43b04edd5",
       "version_major": 2,
       "version_minor": 0
      },
      "text/plain": [
       "KeplerGl(config={'version': 'v1', 'config': {'visState': {'filters': [{'dataId': 'bookings', 'id': '2l16eicm',…"
      ]
     },
     "metadata": {},
     "output_type": "display_data"
    }
   ],
   "source": [
    "render_map(\n",
    "    select_data(\"2015-07-01\", \"2015-09-30\"),\n",
    "    \"generated_maps/2015_q3.html\"\n",
    ")"
   ]
  },
  {
   "cell_type": "markdown",
   "metadata": {},
   "source": [
    "## Q4 2015"
   ]
  },
  {
   "cell_type": "code",
   "execution_count": 19,
   "metadata": {},
   "outputs": [
    {
     "name": "stdout",
     "output_type": "stream",
     "text": [
      "User Guide: https://github.com/keplergl/kepler.gl/blob/master/docs/keplergl-jupyter/user-guide.md\n",
      "Map saved to generated_maps/2015_q4.html!\n"
     ]
    },
    {
     "data": {
      "application/vnd.jupyter.widget-view+json": {
       "model_id": "f56b615bc15643e7a5f69fddd00e6993",
       "version_major": 2,
       "version_minor": 0
      },
      "text/plain": [
       "KeplerGl(config={'version': 'v1', 'config': {'visState': {'filters': [{'dataId': 'bookings', 'id': '2l16eicm',…"
      ]
     },
     "metadata": {},
     "output_type": "display_data"
    }
   ],
   "source": [
    "render_map(\n",
    "    select_data(\"2015-10-01\", \"2015-12-31\"),\n",
    "    \"generated_maps/2015_q4.html\"\n",
    ")"
   ]
  },
  {
   "cell_type": "markdown",
   "metadata": {},
   "source": [
    "## Q1 2016"
   ]
  },
  {
   "cell_type": "code",
   "execution_count": 20,
   "metadata": {},
   "outputs": [
    {
     "name": "stdout",
     "output_type": "stream",
     "text": [
      "User Guide: https://github.com/keplergl/kepler.gl/blob/master/docs/keplergl-jupyter/user-guide.md\n",
      "Map saved to generated_maps/2016_q1.html!\n"
     ]
    },
    {
     "data": {
      "application/vnd.jupyter.widget-view+json": {
       "model_id": "ac8e075b584e4c369ef57d741423283a",
       "version_major": 2,
       "version_minor": 0
      },
      "text/plain": [
       "KeplerGl(config={'version': 'v1', 'config': {'visState': {'filters': [{'dataId': 'bookings', 'id': '2l16eicm',…"
      ]
     },
     "metadata": {},
     "output_type": "display_data"
    }
   ],
   "source": [
    "render_map(\n",
    "    select_data(\"2016-01-01\", \"2016-03-31\"),\n",
    "    \"generated_maps/2016_q1.html\"\n",
    ")"
   ]
  },
  {
   "cell_type": "markdown",
   "metadata": {},
   "source": [
    "## Q2 2016"
   ]
  },
  {
   "cell_type": "code",
   "execution_count": 21,
   "metadata": {},
   "outputs": [
    {
     "name": "stdout",
     "output_type": "stream",
     "text": [
      "User Guide: https://github.com/keplergl/kepler.gl/blob/master/docs/keplergl-jupyter/user-guide.md\n",
      "Map saved to generated_maps/2016_q2.html!\n"
     ]
    },
    {
     "data": {
      "application/vnd.jupyter.widget-view+json": {
       "model_id": "df654c58b076455c831a8ee674d10fee",
       "version_major": 2,
       "version_minor": 0
      },
      "text/plain": [
       "KeplerGl(config={'version': 'v1', 'config': {'visState': {'filters': [{'dataId': 'bookings', 'id': '2l16eicm',…"
      ]
     },
     "metadata": {},
     "output_type": "display_data"
    }
   ],
   "source": [
    "render_map(\n",
    "    select_data(\"2016-04-01\", \"2016-06-30\"),\n",
    "    \"generated_maps/2016_q2.html\"\n",
    ")"
   ]
  },
  {
   "cell_type": "markdown",
   "metadata": {},
   "source": [
    "## Q3 2016"
   ]
  },
  {
   "cell_type": "code",
   "execution_count": 22,
   "metadata": {
    "scrolled": true
   },
   "outputs": [
    {
     "name": "stdout",
     "output_type": "stream",
     "text": [
      "User Guide: https://github.com/keplergl/kepler.gl/blob/master/docs/keplergl-jupyter/user-guide.md\n",
      "Map saved to generated_maps/2016_q3.html!\n"
     ]
    },
    {
     "data": {
      "application/vnd.jupyter.widget-view+json": {
       "model_id": "d96fb5d6024f4d6f9e6bb5023e856c03",
       "version_major": 2,
       "version_minor": 0
      },
      "text/plain": [
       "KeplerGl(config={'version': 'v1', 'config': {'visState': {'filters': [{'dataId': 'bookings', 'id': '2l16eicm',…"
      ]
     },
     "metadata": {},
     "output_type": "display_data"
    }
   ],
   "source": [
    "render_map(\n",
    "    select_data(\"2016-07-01\", \"2016-09-30\"),\n",
    "    \"generated_maps/2016_q3.html\"\n",
    ")"
   ]
  },
  {
   "cell_type": "markdown",
   "metadata": {},
   "source": [
    "## Q4 2016"
   ]
  },
  {
   "cell_type": "code",
   "execution_count": 23,
   "metadata": {},
   "outputs": [
    {
     "name": "stdout",
     "output_type": "stream",
     "text": [
      "User Guide: https://github.com/keplergl/kepler.gl/blob/master/docs/keplergl-jupyter/user-guide.md\n",
      "Map saved to generated_maps/2016_q4.html!\n"
     ]
    },
    {
     "data": {
      "application/vnd.jupyter.widget-view+json": {
       "model_id": "e4dd466acd724df5b171dba7e48a83e0",
       "version_major": 2,
       "version_minor": 0
      },
      "text/plain": [
       "KeplerGl(config={'version': 'v1', 'config': {'visState': {'filters': [{'dataId': 'bookings', 'id': '2l16eicm',…"
      ]
     },
     "metadata": {},
     "output_type": "display_data"
    }
   ],
   "source": [
    "render_map(\n",
    "    select_data(\"2016-10-01\", \"2016-12-31\"),\n",
    "    \"generated_maps/2016_q4.html\"\n",
    ")"
   ]
  },
  {
   "cell_type": "markdown",
   "metadata": {},
   "source": [
    "## Q1 2017"
   ]
  },
  {
   "cell_type": "code",
   "execution_count": 24,
   "metadata": {},
   "outputs": [
    {
     "name": "stdout",
     "output_type": "stream",
     "text": [
      "User Guide: https://github.com/keplergl/kepler.gl/blob/master/docs/keplergl-jupyter/user-guide.md\n",
      "Map saved to generated_maps/2017_q1.html!\n"
     ]
    },
    {
     "data": {
      "application/vnd.jupyter.widget-view+json": {
       "model_id": "83766acb131a4abcaf7281da03ab661d",
       "version_major": 2,
       "version_minor": 0
      },
      "text/plain": [
       "KeplerGl(config={'version': 'v1', 'config': {'visState': {'filters': [{'dataId': 'bookings', 'id': '2l16eicm',…"
      ]
     },
     "metadata": {},
     "output_type": "display_data"
    }
   ],
   "source": [
    "render_map(\n",
    "    select_data(\"2017-01-01\", \"2017-03-31\"),\n",
    "    \"generated_maps/2017_q1.html\"\n",
    ")"
   ]
  },
  {
   "cell_type": "markdown",
   "metadata": {},
   "source": [
    "## Q2 2017"
   ]
  },
  {
   "cell_type": "code",
   "execution_count": 25,
   "metadata": {},
   "outputs": [
    {
     "name": "stdout",
     "output_type": "stream",
     "text": [
      "User Guide: https://github.com/keplergl/kepler.gl/blob/master/docs/keplergl-jupyter/user-guide.md\n",
      "Map saved to generated_maps/2017_q2.html!\n"
     ]
    },
    {
     "data": {
      "application/vnd.jupyter.widget-view+json": {
       "model_id": "1513152f0a2e49338693cd8312e2a32d",
       "version_major": 2,
       "version_minor": 0
      },
      "text/plain": [
       "KeplerGl(config={'version': 'v1', 'config': {'visState': {'filters': [{'dataId': 'bookings', 'id': '2l16eicm',…"
      ]
     },
     "metadata": {},
     "output_type": "display_data"
    }
   ],
   "source": [
    "render_map(\n",
    "    select_data(\"2017-04-01\", \"2017-06-30\"),\n",
    "    \"generated_maps/2017_q2.html\"\n",
    ")"
   ]
  },
  {
   "cell_type": "code",
   "execution_count": null,
   "metadata": {},
   "outputs": [],
   "source": []
  }
 ],
 "metadata": {
  "kernelspec": {
   "display_name": "Python 3",
   "language": "python",
   "name": "python3"
  },
  "language_info": {
   "codemirror_mode": {
    "name": "ipython",
    "version": 3
   },
   "file_extension": ".py",
   "mimetype": "text/x-python",
   "name": "python",
   "nbconvert_exporter": "python",
   "pygments_lexer": "ipython3",
   "version": "3.7.7"
  }
 },
 "nbformat": 4,
 "nbformat_minor": 4
}
